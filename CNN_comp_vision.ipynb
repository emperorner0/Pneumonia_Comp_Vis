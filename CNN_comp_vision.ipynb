{
 "cells": [
  {
   "cell_type": "markdown",
   "metadata": {
    "toc": true
   },
   "source": [
    "<h1>Table of Contents<span class=\"tocSkip\"></span></h1>\n",
    "<div class=\"toc\"><ul class=\"toc-item\"><li><span><a href=\"#Pneumonia:-A-Computer-Vision-Task\" data-toc-modified-id=\"Pneumonia:-A-Computer-Vision-Task-1\"><span class=\"toc-item-num\">1&nbsp;&nbsp;</span>Pneumonia: A Computer Vision Task</a></span><ul class=\"toc-item\"><li><span><a href=\"#Business-Case\" data-toc-modified-id=\"Business-Case-1.1\"><span class=\"toc-item-num\">1.1&nbsp;&nbsp;</span>Business Case</a></span></li><li><span><a href=\"#Our-Data\" data-toc-modified-id=\"Our-Data-1.2\"><span class=\"toc-item-num\">1.2&nbsp;&nbsp;</span>Our Data</a></span></li><li><span><a href=\"#Importations\" data-toc-modified-id=\"Importations-1.3\"><span class=\"toc-item-num\">1.3&nbsp;&nbsp;</span>Importations</a></span></li><li><span><a href=\"#Binary-Check\" data-toc-modified-id=\"Binary-Check-1.4\"><span class=\"toc-item-num\">1.4&nbsp;&nbsp;</span>Binary Check</a></span></li><li><span><a href=\"#PyTorch-Dataloader-Class\" data-toc-modified-id=\"PyTorch-Dataloader-Class-1.5\"><span class=\"toc-item-num\">1.5&nbsp;&nbsp;</span>PyTorch Dataloader Class</a></span><ul class=\"toc-item\"><li><span><a href=\"#Class-Balance\" data-toc-modified-id=\"Class-Balance-1.5.1\"><span class=\"toc-item-num\">1.5.1&nbsp;&nbsp;</span>Class Balance</a></span></li></ul></li><li><span><a href=\"#Helper-Function\" data-toc-modified-id=\"Helper-Function-1.6\"><span class=\"toc-item-num\">1.6&nbsp;&nbsp;</span>Helper Function</a></span></li></ul></li><li><span><a href=\"#PyTorch-Model\" data-toc-modified-id=\"PyTorch-Model-2\"><span class=\"toc-item-num\">2&nbsp;&nbsp;</span>PyTorch Model</a></span><ul class=\"toc-item\"><li><ul class=\"toc-item\"><li><span><a href=\"#What-is-a-Neural-Network?\" data-toc-modified-id=\"What-is-a-Neural-Network?-2.0.1\"><span class=\"toc-item-num\">2.0.1&nbsp;&nbsp;</span>What is a Neural Network?</a></span></li><li><span><a href=\"#PyTorch-and-TensorFlow\" data-toc-modified-id=\"PyTorch-and-TensorFlow-2.0.2\"><span class=\"toc-item-num\">2.0.2&nbsp;&nbsp;</span>PyTorch and TensorFlow</a></span></li><li><span><a href=\"#Model-Details\" data-toc-modified-id=\"Model-Details-2.0.3\"><span class=\"toc-item-num\">2.0.3&nbsp;&nbsp;</span>Model Details</a></span></li></ul></li><li><span><a href=\"#Model-Training\" data-toc-modified-id=\"Model-Training-2.1\"><span class=\"toc-item-num\">2.1&nbsp;&nbsp;</span>Model Training</a></span></li><li><span><a href=\"#Model-Testing\" data-toc-modified-id=\"Model-Testing-2.2\"><span class=\"toc-item-num\">2.2&nbsp;&nbsp;</span>Model Testing</a></span><ul class=\"toc-item\"><li><span><a href=\"#Deployable-Code\" data-toc-modified-id=\"Deployable-Code-2.2.1\"><span class=\"toc-item-num\">2.2.1&nbsp;&nbsp;</span>Deployable Code</a></span></li><li><span><a href=\"#Saving-and-Loading-Model\" data-toc-modified-id=\"Saving-and-Loading-Model-2.2.2\"><span class=\"toc-item-num\">2.2.2&nbsp;&nbsp;</span>Saving and Loading Model</a></span></li><li><span><a href=\"#TensorBoard\" data-toc-modified-id=\"TensorBoard-2.2.3\"><span class=\"toc-item-num\">2.2.3&nbsp;&nbsp;</span>TensorBoard</a></span></li><li><span><a href=\"#What-the-Model-'Sees'\" data-toc-modified-id=\"What-the-Model-'Sees'-2.2.4\"><span class=\"toc-item-num\">2.2.4&nbsp;&nbsp;</span>What the Model 'Sees'</a></span></li></ul></li></ul></li><li><span><a href=\"#Tensorflow-Keras-Model\" data-toc-modified-id=\"Tensorflow-Keras-Model-3\"><span class=\"toc-item-num\">3&nbsp;&nbsp;</span>Tensorflow-Keras Model</a></span><ul class=\"toc-item\"><li><ul class=\"toc-item\"><li><span><a href=\"#Model-Compliation\" data-toc-modified-id=\"Model-Compliation-3.0.1\"><span class=\"toc-item-num\">3.0.1&nbsp;&nbsp;</span>Model Compliation</a></span></li><li><span><a href=\"#Testing-and-Training-Dataloaders\" data-toc-modified-id=\"Testing-and-Training-Dataloaders-3.0.2\"><span class=\"toc-item-num\">3.0.2&nbsp;&nbsp;</span>Testing and Training Dataloaders</a></span></li><li><span><a href=\"#Keras-Training\" data-toc-modified-id=\"Keras-Training-3.0.3\"><span class=\"toc-item-num\">3.0.3&nbsp;&nbsp;</span>Keras Training</a></span></li><li><span><a href=\"#Keras-Testing\" data-toc-modified-id=\"Keras-Testing-3.0.4\"><span class=\"toc-item-num\">3.0.4&nbsp;&nbsp;</span>Keras Testing</a></span></li><li><span><a href=\"#Keras-Model-Saving-and-Loading\" data-toc-modified-id=\"Keras-Model-Saving-and-Loading-3.0.5\"><span class=\"toc-item-num\">3.0.5&nbsp;&nbsp;</span>Keras Model Saving and Loading</a></span></li></ul></li></ul></li><li><span><a href=\"#Business-Application\" data-toc-modified-id=\"Business-Application-4\"><span class=\"toc-item-num\">4&nbsp;&nbsp;</span>Business Application</a></span><ul class=\"toc-item\"><li><span><a href=\"#Summation-and-Recommendations\" data-toc-modified-id=\"Summation-and-Recommendations-4.1\"><span class=\"toc-item-num\">4.1&nbsp;&nbsp;</span>Summation and Recommendations</a></span><ul class=\"toc-item\"><li><span><a href=\"#First-Recommendation:\" data-toc-modified-id=\"First-Recommendation:-4.1.1\"><span class=\"toc-item-num\">4.1.1&nbsp;&nbsp;</span>First Recommendation:</a></span></li><li><span><a href=\"#Second-Recommendation:\" data-toc-modified-id=\"Second-Recommendation:-4.1.2\"><span class=\"toc-item-num\">4.1.2&nbsp;&nbsp;</span>Second Recommendation:</a></span></li><li><span><a href=\"#Third-Recommendation:\" data-toc-modified-id=\"Third-Recommendation:-4.1.3\"><span class=\"toc-item-num\">4.1.3&nbsp;&nbsp;</span>Third Recommendation:</a></span></li></ul></li><li><span><a href=\"#The-Complete-Narrative\" data-toc-modified-id=\"The-Complete-Narrative-4.2\"><span class=\"toc-item-num\">4.2&nbsp;&nbsp;</span>The Complete Narrative</a></span></li></ul></li><li><span><a href=\"#Todo\" data-toc-modified-id=\"Todo-5\"><span class=\"toc-item-num\">5&nbsp;&nbsp;</span>Todo</a></span></li></ul></div>"
   ]
  },
  {
   "cell_type": "markdown",
   "metadata": {},
   "source": [
    "# Pneumonia: A Computer Vision Task\n",
    "\n",
    "## Business Case\n",
    "\n",
    "Reading an **X-Ray** takes time. A [study](https://pubmed.ncbi.nlm.nih.gov/125436/) showed that with a **.2 second flash** of an **X-Ray** to a trained radiologist could predict a **70% true-positive rate** in diagnosing abnormal chest **X-Rays**. The issue is that still leaves a **30% False Negative rate** and these cases could prove fatal in the wrong person. The same study showed that given **unlimited time** to freely search the **X-Ray** the **true-positive rate** sky-rocketed to an incredible **96%**. When in life or death situations time and accuracy are of the utmost importance. After these times, when a patient receives a bill, it is important that the care have been quality due to the high costs of health care.\n",
    "\n",
    "We posit that if an **Artificial Neural Network** could be trained to recognize pneumonia cases in patients that we could save the insurance companies and patients large amounts of money, and save doctors large amounts of time so they could provide better health care.\n",
    "\n",
    "## Our Data\n",
    "\n",
    "Our dataset for this problem was provided on [Kaggle](https://www.kaggle.com/paultimothymooney/chest-xray-pneumonia).\n",
    "\n",
    "> There are 5,863 X-Ray images (JPEG) and 2 categories (Pneumonia/Normal). <br><br>\n",
    "Chest X-ray images (anterior-posterior) were selected from retrospective cohorts of pediatric patients of one to five years old from Guangzhou Women and Children’s Medical Center, Guangzhou. All chest X-ray imaging was performed as part of patients’ routine clinical care.<br><br>\n",
    "For the analysis of chest x-ray images, all chest radiographs were initially screened for quality control by removing all low quality or unreadable scans. The diagnoses for the images were then graded by two expert physicians before being cleared for training the AI system. In order to account for any grading errors, the evaluation set was also checked by a third expert.\n",
    "\n",
    "This data is a classic example of an **Image Classification** problem. In this notebook we will demonstrate the ability for an **Artificial Neural Network** to *learn* how to identify pneumonia in patient X-rays. The business applications of these sorts of algorithms are numerous and represent possible millions of dollars in savings for our health care system."
   ]
  },
  {
   "cell_type": "markdown",
   "metadata": {},
   "source": [
    "## Importations"
   ]
  },
  {
   "cell_type": "code",
   "execution_count": 1,
   "metadata": {
    "ExecuteTime": {
     "end_time": "2020-11-05T20:49:54.709458Z",
     "start_time": "2020-11-05T20:49:50.403460Z"
    }
   },
   "outputs": [],
   "source": [
    "import os\n",
    "import glob\n",
    "import numpy as np\n",
    "np.random.seed(512)\n",
    "import matplotlib.pyplot as plt\n",
    "import pandas as pd\n",
    "import seaborn as sns\n",
    "import torch\n",
    "torch.manual_seed(512)\n",
    "import torch.nn as nn\n",
    "import torch.nn.functional as F\n",
    "import torch.optim as optim\n",
    "from torchvision.transforms import ToTensor\n",
    "import torchvision.transforms as transforms\n",
    "from torch.utils.data.sampler import SubsetRandomSampler\n",
    "import torchvision\n",
    "from torch.utils.data import DataLoader\n",
    "from torch.utils.data import Dataset\n",
    "import tensorboard\n",
    "from torch.utils.tensorboard import SummaryWriter\n",
    "from sklearn.utils import class_weight\n",
    "from sklearn.metrics import confusion_matrix, plot_confusion_matrix, classification_report\n",
    "from skimage import io\n",
    "from tqdm.notebook import tqdm_notebook as tqdm\n",
    "from torchsummary import summary\n",
    "from PIL import Image\n",
    "import time"
   ]
  },
  {
   "cell_type": "code",
   "execution_count": 2,
   "metadata": {
    "ExecuteTime": {
     "end_time": "2020-11-05T20:49:54.715459Z",
     "start_time": "2020-11-05T20:49:54.711459Z"
    }
   },
   "outputs": [],
   "source": [
    "import warnings\n",
    "warnings.filterwarnings(\"ignore\")"
   ]
  },
  {
   "cell_type": "code",
   "execution_count": 3,
   "metadata": {
    "ExecuteTime": {
     "end_time": "2020-11-05T20:49:54.731460Z",
     "start_time": "2020-11-05T20:49:54.718460Z"
    }
   },
   "outputs": [],
   "source": [
    "sns.set_palette(palette='crest')"
   ]
  },
  {
   "cell_type": "code",
   "execution_count": 4,
   "metadata": {
    "ExecuteTime": {
     "end_time": "2020-11-05T20:49:54.737461Z",
     "start_time": "2020-11-05T20:49:54.733461Z"
    }
   },
   "outputs": [],
   "source": [
    "# Flag to save model if required \n",
    "save = False"
   ]
  },
  {
   "cell_type": "markdown",
   "metadata": {},
   "source": [
    "## Binary Check\n",
    "\n",
    "The PyTorch model has been designed in such a way that it can predict for 2 classes (Pneumonia/No Pneumonia) or 3 classes (No Pneumonia/Bacterial Pneumonia/Viral Pneumonia)."
   ]
  },
  {
   "cell_type": "code",
   "execution_count": 5,
   "metadata": {
    "ExecuteTime": {
     "end_time": "2020-11-05T20:49:54.744461Z",
     "start_time": "2020-11-05T20:49:54.739462Z"
    }
   },
   "outputs": [],
   "source": [
    "# Change model between binary pneumonia, or a 3 class predicition \n",
    "two_classes = True"
   ]
  },
  {
   "cell_type": "markdown",
   "metadata": {},
   "source": [
    "## PyTorch Dataloader Class\n",
    "\n",
    "PyTorch has a Dataset inheritable class that can be used with the PyTorch framework. The Dataset inheritable class represents a Python iterable over a dataset that supports map-style or iterable-style datasets.\n",
    "\n",
    "* **Map-Style** - Represents a map of Key-Value pairs to data samples within the dataset.\n",
    "* **Iterable-Style** - Represents an iterable dataset like that which could be streamed from a database, remote server, or even generated in real-time. \n",
    "\n",
    "This uses the `__getitem__` method to implement data retrieval and is therefore a `map-style` dataset. The `__getitem__` method pulls an image path using root directory information and a pregenerated `CSV file` of image names and labels, and it then reads the generated image path. The image is transformed using the `PyTorch Transforms` or `None` if no transforms are supplied. The dataloader then returns a single image and its related label."
   ]
  },
  {
   "cell_type": "code",
   "execution_count": 6,
   "metadata": {
    "ExecuteTime": {
     "end_time": "2020-11-05T20:49:54.752461Z",
     "start_time": "2020-11-05T20:49:54.745459Z"
    }
   },
   "outputs": [],
   "source": [
    "class PneumoniaDataset(Dataset):\n",
    "    # Initialization of PneumoniaDataset for use with PyTorch\n",
    "    def __init__(self, csv_file, root_dir, transform=None):\n",
    "        self.annotations = pd.read_csv(csv_file)\n",
    "        self.root_dir = root_dir\n",
    "        self.transform = transform\n",
    "\n",
    "    # For measuring length of dataset\n",
    "    def __len__(self):\n",
    "        return len(self.annotations)\n",
    "\n",
    "    # Retrieves one image at a time using the CSV and Rootdir\n",
    "    def __getitem__(self, index):\n",
    "        img_path = os.path.join(self.root_dir, self.annotations.iloc[index, 0])\n",
    "        image = io.imread(img_path)\n",
    "        y_label = torch.tensor(int(self.annotations.iloc[index, 1]))\n",
    "        \n",
    "        # Performs passed PyTorch transformations\n",
    "        if self.transform:\n",
    "            image = self.transform(image)\n",
    "            \n",
    "        # Returns single image with label from CSV\n",
    "        return (image, y_label)"
   ]
  },
  {
   "cell_type": "markdown",
   "metadata": {},
   "source": [
    "PyTorch transforms are a method for PyTorch to modify image data before it is fed into a model. This is most often used for regularization of input size and normalization before it is fed into the model. \n",
    "\n",
    "\n",
    "Below we have an image that is converted into a PIL Image, which allows for Pillow transforms. It then resizes all images to 32x32 pixels and grayscale to compress any RGB channels into a single output channel. These images are then converted to a tensor, and finally normalized."
   ]
  },
  {
   "cell_type": "code",
   "execution_count": 7,
   "metadata": {
    "ExecuteTime": {
     "end_time": "2020-11-05T20:49:54.760462Z",
     "start_time": "2020-11-05T20:49:54.753461Z"
    }
   },
   "outputs": [],
   "source": [
    "my_transforms = transforms.Compose([\n",
    "            transforms.ToPILImage(),\n",
    "            transforms.Resize((32,32)),\n",
    "            transforms.Grayscale(),\n",
    "            transforms.ToTensor(),\n",
    "            transforms.Normalize(mean=[.5], std=[.5])\n",
    "        ])\n",
    "        "
   ]
  },
  {
   "cell_type": "code",
   "execution_count": 8,
   "metadata": {
    "ExecuteTime": {
     "end_time": "2020-11-05T20:49:54.780461Z",
     "start_time": "2020-11-05T20:49:54.763460Z"
    }
   },
   "outputs": [],
   "source": [
    "if two_classes:\n",
    "    dataset = PneumoniaDataset(csv_file='pneumonia.csv', root_dir='xraydir',\n",
    "                               transform= my_transforms)\n",
    "else:\n",
    "    dataset = PneumoniaDataset(csv_file='test.csv', root_dir='xraydir',\n",
    "                               transform= my_transforms)"
   ]
  },
  {
   "cell_type": "code",
   "execution_count": 49,
   "metadata": {
    "ExecuteTime": {
     "end_time": "2020-11-05T21:20:04.382651Z",
     "start_time": "2020-11-05T21:20:04.237653Z"
    }
   },
   "outputs": [
    {
     "name": "stdout",
     "output_type": "stream",
     "text": [
      "(32, 32, 1)\n"
     ]
    },
    {
     "data": {
      "image/png": "[encoded data removed]",
      "text/plain": [
       "<Figure size 432x288 with 1 Axes>"
      ]
     },
     "metadata": {
      "needs_background": "light"
     },
     "output_type": "display_data"
    }
   ],
   "source": [
    "# Test image\n",
    "img = dataset[10][0]\n",
    "imgs = img.permute(1, 2, 0).numpy()\n",
    "plt.imshow(X=imgs[:,:, 0], cmap='gray')\n",
    "if save:\n",
    "    plt.imsave('Images/testimage.png', arr=imgs[:,:, 0])\n",
    "plt.show()"
   ]
  },
  {
   "cell_type": "code",
   "execution_count": 10,
   "metadata": {
    "ExecuteTime": {
     "end_time": "2020-11-05T20:50:56.232980Z",
     "start_time": "2020-11-05T20:49:54.979460Z"
    }
   },
   "outputs": [
    {
     "data": {
      "application/vnd.jupyter.widget-view+json": {
       "model_id": "6cfded3089d949f2b32d8e297a431598",
       "version_major": 2,
       "version_minor": 0
      },
      "text/plain": [
       "HBox(children=(FloatProgress(value=0.0, max=5856.0), HTML(value='')))"
      ]
     },
     "metadata": {},
     "output_type": "display_data"
    },
    {
     "name": "stdout",
     "output_type": "stream",
     "text": [
      "\n"
     ]
    }
   ],
   "source": [
    "labels = []\n",
    "for image, label in tqdm(dataset):\n",
    "    labels.append(label.item())"
   ]
  },
  {
   "cell_type": "markdown",
   "metadata": {},
   "source": [
    "### Class Balance"
   ]
  },
  {
   "cell_type": "markdown",
   "metadata": {},
   "source": [
    "A look at class balance for our image data using the data generated by the outside script. As you can see we are facing a moderate imbalance. We address this below."
   ]
  },
  {
   "cell_type": "code",
   "execution_count": 13,
   "metadata": {
    "ExecuteTime": {
     "end_time": "2020-11-05T20:53:45.265373Z",
     "start_time": "2020-11-05T20:53:45.137374Z"
    }
   },
   "outputs": [
    {
     "data": {
      "image/png": "[encoded data removed]",
      "text/plain": [
       "<Figure size 432x288 with 1 Axes>"
      ]
     },
     "metadata": {
      "needs_background": "light"
     },
     "output_type": "display_data"
    }
   ],
   "source": [
    "if two_classes:\n",
    "    sns.countplot(labels)\n",
    "    plt.xticks(ticks=(0,1), labels=('No Pneumonia', 'Pneumonia'))\n",
    "    plt.title('Class Balance')\n",
    "    if save:\n",
    "        plt.savefig('xraydir/twoclass_bal.png')\n",
    "    plt.show()\n",
    "    \n",
    "else:\n",
    "    sns.countplot(labels)\n",
    "    plt.xticks(ticks=(0,1,2), labels=('No Pneumonia', 'Bacterial Pnemonia', 'Viral Pneumonia'))\n",
    "    plt.title('Class Balance')\n",
    "    if save:\n",
    "        plt.figsave('xraydir/threeclass_bal.png')\n",
    "    plt.show()"
   ]
  },
  {
   "cell_type": "markdown",
   "metadata": {},
   "source": [
    "## Helper Function\n"
   ]
  },
  {
   "cell_type": "markdown",
   "metadata": {},
   "source": [
    "The function below takes a generated PyTorch dataset and returns the weight of the classes within the dataset using the Sci-kit Learn implementation of `class_weight.compute_class_weight`."
   ]
  },
  {
   "cell_type": "code",
   "execution_count": 14,
   "metadata": {
    "ExecuteTime": {
     "end_time": "2020-11-05T20:53:55.161273Z",
     "start_time": "2020-11-05T20:53:55.157272Z"
    }
   },
   "outputs": [],
   "source": [
    "def calc_class_weights(dataset, balance='balanced'):\n",
    "    \n",
    "    \"\"\"\n",
    "    Returns class weights for use in Neural Network using Sci-\n",
    "    Kit Learns class_weight function.\n",
    "    ---------------------------------------------------------\n",
    "    Dataset[PyTorch] - The dataset used for you network\n",
    "    Balance[String] - Optional input to determine balance of classes\n",
    "    ---------------------------------------------------------\n",
    "    \n",
    "    returns python list of class weights\"\"\"\n",
    "    \n",
    "    # List for labels for class weight calc\n",
    "    labels = []\n",
    "\n",
    "    # Pulling out labels from data\n",
    "    for _, label in tqdm(dataset):\n",
    "        labels.append(label.item())\n",
    "\n",
    "    # Using SKLearn to compute class weights\n",
    "    class_weights = list(class_weight.compute_class_weight(balance,\n",
    "                                         np.unique(labels), \n",
    "                                         labels))\n",
    "    \n",
    "    return class_weights"
   ]
  },
  {
   "cell_type": "code",
   "execution_count": 15,
   "metadata": {
    "ExecuteTime": {
     "end_time": "2020-11-05T20:54:48.633008Z",
     "start_time": "2020-11-05T20:53:55.162273Z"
    }
   },
   "outputs": [
    {
     "data": {
      "application/vnd.jupyter.widget-view+json": {
       "model_id": "b8459f6306d94158981ac9def7bb79d6",
       "version_major": 2,
       "version_minor": 0
      },
      "text/plain": [
       "HBox(children=(FloatProgress(value=0.0, max=5856.0), HTML(value='')))"
      ]
     },
     "metadata": {},
     "output_type": "display_data"
    },
    {
     "name": "stdout",
     "output_type": "stream",
     "text": [
      "\n"
     ]
    }
   ],
   "source": [
    "weights = calc_class_weights(dataset)"
   ]
  },
  {
   "cell_type": "markdown",
   "metadata": {},
   "source": [
    "# PyTorch Model"
   ]
  },
  {
   "cell_type": "markdown",
   "metadata": {},
   "source": [
    "Data Science offer several very competent and useful frameworks for building, maintaining, and deploying Neural Networks. Of these many frameworks two have set themselves apart from the rest of the chaff by being flexible and easily put into a production environment. These are **PyTorch** and **Tensorflow**. **PyTorch** being developed and maintained by Facebook and **Tensorflow** being developed and maintained by Google. These are the two most popular and widely used frameworks. \n",
    "\n",
    "### What is a Neural Network? \n",
    "\n",
    "* **Artificial Neural Networks** at the most base level explanation is an attempt to model how the human brain functions on a level that concerns learning in order to make predictions or draw inferences.\n",
    "\n",
    "\n",
    "* A deeper explanation describes that an **ANN** is comprised of **artificial neurons** that connect to other **artificial neurons** through **synaptic connections**. These **neurons** have an **edge** that is **weighted** through various transformations. Being passed through a **weighted edge** can decrease the strength of the signal between **layers** of **neurons**. Each **layer** can have a function that acts as a sort of gatekeeper which only allows a **neuron** to fire if it's signal reaches a certain threshold, this is known as an **activation function**. This is the analogous action that mimics learning. The final **layer** of **neurons** represents the **output** of the network. Predictions of the **ANN** are passed through a mathematical function that calculates the cost of the prediction, this cost function is known as the **loss function**. This **loss function** operates with **back-propogation** in order to pass information back through the **model** in order to calculate **gradients** and have the model learn.\n",
    "\n",
    "### PyTorch and TensorFlow\n",
    "\n",
    "The first model below is a **PyTorch** model. \n",
    "\n",
    "**PyTorch**, as previously stated, is a neural network framework developed and maintained by Facebook. The current trend shows that **PyTorch** and **Tensorflow** share similar interest within websearches, with **PyTorch** pulling slightly ahead. As seen in this image provided by Google Trends: \n",
    "\n",
    "![Google Trends](images/pyttf.png)\n",
    "![Google Trends](images/pyttf_chart.png)\n",
    "\n",
    "This increase in interest can be attributed to several things, including adoption of **PyTorch** by Silicon Valley front-runners like Tesla. \n",
    "\n",
    "It's also because of the difference in architecture of the frameworks from not just a data science standpoint, but also a software engineering standpoint. **Tensorflow** is a statically graphed architecture, and **PyTorch** is a dynamic architecture. An excellent explanation was posted on [StackOverflow](https://stackoverflow.com/questions/46154189/what-is-the-difference-of-static-computational-graphs-in-tensorflow-and-dynamic):\n",
    "\n",
    "> Both frameworks operate on tensors and view any model as a directed acyclic graph (DAG), but they differ drastically on how you can define them.<br><br>\n",
    "TensorFlow follows ‘data as code and code is data’ idiom. In TensorFlow you define graph statically before a model can run. All communication with outer world is performed via tf.Session object and tf.Placeholder which are tensors that will be substituted by external data at runtime. <br><br>\n",
    "In PyTorch things are way more imperative and dynamic: you can define, change and execute nodes as you go, no special session interfaces or placeholders. Overall, the framework is more tightly integrated with Python language and feels more native most of the times. When you write in TensorFlow sometimes you feel that your model is behind a brick wall with several tiny holes to communicate over. Anyways, this still sounds like a matter of taste more or less. <br><br>\n",
    "However, those approaches differ not only in a software engineering perspective: there are several dynamic neural network architectures that can benefit from the dynamic approach. Recall RNNs: with static graphs, the input sequence length will stay constant. This means that if you develop a sentiment analysis model for English sentences you must fix the sentence length to some maximum value and pad all smaller sequences with zeros. Not too convenient, huh. And you will get more problems in the domain of recursive RNNs and tree-RNNs. Currently Tensorflow has limited support for dynamic inputs via Tensorflow Fold. PyTorch has it by-default.\n",
    "\n",
    "![Directed Graph](images/graphmap.gif)\n",
    "This `gif` is an example of how any neural network model can be displayed as a **directed acyclic graph**.\n",
    "\n",
    "### Model Details\n",
    "\n",
    "We have chose to code our model in a way that takes advantage of the **Object-Oriented** nature of the framework. There-by making our model easily extensible, increasing our debugging capabilities, helping with tunability of our model's parameters, and finally making the model more deployable from a production standpoint.\n",
    "\n",
    "#### Convolutional Neural Network\n",
    "\n",
    "We have chosen to make our model a slightly more advanced form of **ANN**, the **Convolutional Neural Network**. We chose this because **CNN**s are generally better at **image classification** tasks. **CNN**s are named after layers that are within their architecture. This flavor of **ANN** make use of **Convolutional Layers**, which in the simplest terms apply **convolutional filters** to an image as they scan over it. These **convolutional filters** can scan an image for generalized features, and as the information is passed forward in the sequential model it can pick out more and more complex features within your image. This also allows for **feature reduction** within the model, which is something that a **Fully Connected** (or **Dense**) **layer** cannot deal with innately. \n",
    "\n",
    "According to [Machine Learning Mastery](https://machinelearningmastery.com/convolutional-layers-for-deep-learning-neural-networks/), a **convolution** is:\n",
    "\n",
    "> In the context of a convolutional neural network, a convolution is a linear operation that involves the multiplication of a set of weights with the input, much like a traditional neural network. Given that the technique was designed for two-dimensional input, the multiplication is performed between an array of input data and a two-dimensional array of weights, called a filter or a kernel. <br><br>\n",
    "This systematic application of the same filter across an image is a powerful idea. If the filter is designed to detect a specific type of feature in the input, then the application of that filter systematically across the entire input image allows the filter an opportunity to discover that feature anywhere in the image. This capability is commonly referred to as translation invariance, e.g. the general interest in whether the feature is present rather than where it was present.\n",
    "\n",
    "#### Activation Function\n",
    "\n",
    "An **activation function** is a simple concept that relates back to the idea of the neural network being an analogous system to the brain. The function is a mathematical equation that represents a threshold at which the neuron will fire and thus send its signal on to the next layer. This can be numerous things, such as a linear function that makes the output proportional to the input, or a sigmoid function that returns a value between 0 and 1. These are just two of the numerous functions that can represent activations of the neurons.\n",
    "\n",
    "#### Loss Function\n",
    "\n",
    "**Neural Networks** are typically trained by using **stochastic gradient descent** and this requires a method to measure the loss of the network. A neural network can be cast as learning based on optimization, where you are optimizing the weights of neurons. It optimizes these weights via **gradient descent** and associated algorithms, these algorithms seek to reduce the **error** of the next step by finding optimal weights for the neurons. This **error term** can also be referred to as a **loss**. This **loss** is calculated by a **loss function**, which is a distillation of the model itself to a single value. \n",
    "\n",
    "> The cost function reduces all the various good and bad aspects of a possibly complex system down to a single number, a scalar value, which allows candidate solutions to be ranked and compared.<br><br>\n",
    "— Page 155, Neural Smithing: Supervised Learning in Feedforward Artificial Neural Networks, 1999.\n",
    "\n",
    "#### Optimizer Function\n",
    "\n",
    "**Loss functions** have a function that are closely akin to them, which with they work hand in hand to make an **ANN** work. This function is known as the **Optimizer function**. As we discussed before learning through an **ANN** is a function of optimization of loss. The **Optimizer** takes the information learned through the **loss function** and uses it to apply optimizations to the **ANN**, so that it may learn. It takes the guidance of the **loss function** and is able to tell the network where to change weights and by how much, so that learning may start taking place within the **ANN**.\n",
    "\n",
    "#### Training and Testing\n",
    "\n",
    "After we have initialized our **network** so that we have all of the required **layers**, **activation**, **loss**, and **optimizer** functions, we must finally feed **inputs** into our **ANN** so that it can utilize all of the aforementioned mathematical transformations to learn. The **ANN** passes the **inputs** through and produces **predictions** that are then measured by the **loss function**, so that it may **optimize** the weights. **Training**, as discussed previously, is ultimately a function of optimization.\n",
    "\n",
    "**Training** generally takes place on a shuffled sub-set of the dataset so that the **ANN** may learn to generalize from the data. Datasets are generally subdivided into a **training set** and a **test set**. The **test set** is never seen by the **ANN**, so that it can be used to evaluate how well the **ANN** learned to generalize from the provided training data."
   ]
  },
  {
   "cell_type": "code",
   "execution_count": 238,
   "metadata": {
    "ExecuteTime": {
     "end_time": "2020-11-09T16:14:14.011101Z",
     "start_time": "2020-11-09T16:14:13.973097Z"
    },
    "code_folding": []
   },
   "outputs": [],
   "source": [
    "# Creation of our CNN network\n",
    "class CNN(nn.Module):\n",
    "    def __init__(self, lr, epochs, batch_size, num_classes, class_weights):\n",
    "        # Inherit from the torch.nn module\n",
    "        super(CNN, self).__init__()\n",
    "        \n",
    "        # Saving arguments for __init__ purposes\n",
    "        self.lr = lr\n",
    "        self.epochs = epochs\n",
    "        self.batch_size = batch_size\n",
    "        self.num_classes = num_classes\n",
    "        self.class_weights = class_weights\n",
    "        self.loss_history = []\n",
    "        self.acc_history = []\n",
    "        self.device = torch.device('cuda:0' if torch.cuda.is_available() else 'cpu')\n",
    "        \n",
    "        # Convolutions with Batch Normalize layers, finished with a max pooling\n",
    "        self.conv1 = nn.Conv2d(1, 32, 5)\n",
    "        nn.init.xavier_uniform(self.conv1.weight)\n",
    "        self.bn1 = nn.BatchNorm2d(32)\n",
    "        self.conv2 = nn.Conv2d(32, 32, 3)\n",
    "        self.bn2 = nn.BatchNorm2d(32)\n",
    "        self.conv3 = nn.Conv2d(32, 32, 3)\n",
    "        self.bn3 = nn.BatchNorm2d(32)\n",
    "        self.maxpool1 = nn.MaxPool2d(2)\n",
    "        self.conv4 = nn.Conv2d(32, 64, 3)\n",
    "        self.bn4 = nn.BatchNorm2d(64)\n",
    "        self.conv5 = nn.Conv2d(64, 64, 3)\n",
    "        self.bn5 = nn.BatchNorm2d(64)\n",
    "        self.conv6 = nn.Conv2d(64, 64, 3)\n",
    "        self.bn6 = nn.BatchNorm2d(64)\n",
    "        self.maxpool2 = nn.MaxPool2d(2)\n",
    "        \n",
    "        # Calculates input dimensions \n",
    "        input_size = self.calc_input()\n",
    "        \n",
    "        # Fully connected layers\n",
    "        self.fc1 = nn.Linear(input_size, 50)\n",
    "        self.fc2 = nn.Linear(50, self.num_classes)\n",
    "\n",
    "        # Adam optimizer\n",
    "        self.optimizer = optim.Adam(self.parameters(), lr=self.lr)\n",
    "        \n",
    "        # Cross-Entropy Loss\n",
    "        self.loss = nn.CrossEntropyLoss(weight=torch.tensor(self.class_weights).float())\n",
    "        self.to(self.device)\n",
    "        self.get_data()\n",
    "    \n",
    "    # Calculate input sizes\n",
    "    def calc_input(self):\n",
    "        # Junk data to pass through for calc\n",
    "        batch_data = torch.zeros((1,1,32,32))\n",
    "        \n",
    "        # Layers to pass junk through\n",
    "        batch_data = self.conv1(batch_data)\n",
    "        batch_data = self.bn1(batch_data)\n",
    "        batch_data = self.conv2(batch_data)\n",
    "        batch_data = self.bn2(batch_data)\n",
    "        batch_data = self.conv3(batch_data)\n",
    "        batch_data = self.bn3(batch_data)\n",
    "        batch_data = self.maxpool1(batch_data)\n",
    "        batch_data = self.conv4(batch_data)\n",
    "        batch_data = self.bn4(batch_data)\n",
    "        batch_data = self.conv5(batch_data)\n",
    "        batch_data = self.bn5(batch_data)\n",
    "        batch_data = self.conv6(batch_data)\n",
    "        batch_data = self.bn6(batch_data)\n",
    "        batch_data = self.maxpool2(batch_data)\n",
    "        # Return product of the data size for programatic use in network\n",
    "        return int(np.prod(batch_data.size()))\n",
    "    \n",
    "    # Forward step layers\n",
    "    def forward(self, batch_data):\n",
    "        # Sending dataset to GPU if available\n",
    "        batch_data = torch.tensor(batch_data).to(self.device)\n",
    "        \n",
    "        # Six layers of 32 5px filters on 1 channel (grayscale) images\n",
    "        con1 = self.conv1(batch_data)\n",
    "        self.con1 = con1\n",
    "        batch_data = self.bn1(con1)\n",
    "        batch_data = F.relu(batch_data)\n",
    "        \n",
    "        con2 = self.conv2(batch_data)\n",
    "        self.con2 = con2\n",
    "        batch_data = self.bn2(con2)\n",
    "        batch_data = F.relu(batch_data)\n",
    "        \n",
    "        con3 = self.conv3(batch_data)\n",
    "        self.con3 = con3\n",
    "        batch_data = self.bn3(con3)\n",
    "        batch_data = F.relu(batch_data)\n",
    "        \n",
    "        # First pooling layer to gather together the 3 previous feature convolutions, 2px filter\n",
    "        batch_data = self.maxpool1(batch_data)\n",
    "        \n",
    "        con4 = self.conv4(batch_data)\n",
    "        self.con4 = con4\n",
    "        batch_data = self.bn4(con4)\n",
    "        batch_data = F.relu(batch_data)\n",
    "        \n",
    "        con5 = self.conv5(batch_data)\n",
    "        self.con5 = con5\n",
    "        batch_data = self.bn5(con5)\n",
    "        batch_data = F.relu(batch_data)\n",
    "        \n",
    "        con6 = self.conv6(batch_data)\n",
    "        self.con6 = con6\n",
    "        batch_data = self.bn6(con6)\n",
    "        batch_data = F.relu(batch_data)\n",
    "        \n",
    "        # Second pooling pass, 2px filter\n",
    "        batch_data = self.maxpool2(batch_data)\n",
    "\n",
    "        # Unrow data for dense layer\n",
    "        batch_data = batch_data.view(batch_data.size()[0], -1)\n",
    "        \n",
    "        # Dense layer takes calculated input size features and outputs class predictions\n",
    "        batch_data = F.relu(self.fc1(batch_data))\n",
    "        \n",
    "        classes = self.fc2(batch_data)\n",
    "        \n",
    "        return classes\n",
    "    \n",
    "    # Retrieve data from dataset, with custom training size, random seed, and shuffle\n",
    "    def get_data(self, test_size = .3, random_seed=42, shuffle_dataset=True):\n",
    "        \n",
    "        # Transformer that takes in an image and resizes it to 32x32 px and true Grayscale\n",
    "        self.my_transforms = transforms.Compose([\n",
    "            transforms.ToPILImage(),\n",
    "            transforms.Resize((32,32)),\n",
    "            transforms.Grayscale(),\n",
    "            transforms.ToTensor(),\n",
    "            transforms.Normalize(mean=[.5], std=[.5])\n",
    "        ])\n",
    "        \n",
    "        # Takes the data class and stores the data from the web\n",
    "        # uses CSV file and rootdir to find images and then applies transformers\n",
    "        if self.num_classes == 2:\n",
    "            csvfile = 'pneumonia.csv'\n",
    "        else:\n",
    "            csvfile = 'test.csv'\n",
    "            \n",
    "        pnemonia_data = PneumoniaDataset(csv_file=csvfile, root_dir='xraydir',\n",
    "                           transform= my_transforms)\n",
    "        \n",
    "        # Creating data indices for training and test splits\n",
    "        dataset_size = len(pnemonia_data)\n",
    "        indices = list(range(dataset_size))\n",
    "        split = int(np.floor(test_size * dataset_size))\n",
    "        if shuffle_dataset :\n",
    "            np.random.seed(random_seed)\n",
    "            np.random.shuffle(indices)\n",
    "        train_indices, val_indices = indices[split:], indices[:split]\n",
    "\n",
    "        # Creating data samplers\n",
    "        train_sampler = SubsetRandomSampler(train_indices)\n",
    "        valid_sampler = SubsetRandomSampler(val_indices)\n",
    "        \n",
    "\n",
    "        self.train_loader = torch.utils.data.DataLoader(dataset, batch_size=self.batch_size,\n",
    "#                                                     shuffle=True,\n",
    "                                                    sampler=train_sampler,\n",
    "                                                    num_workers=0)\n",
    "        self.test_loader = torch.utils.data.DataLoader(dataset, batch_size=self.batch_size,\n",
    "#                                                     shuffle=True,\n",
    "                                                    sampler=valid_sampler,\n",
    "                                                    num_workers=0)\n",
    "        \n",
    "        # returns dataset for tweaking purposes\n",
    "        return self.train_loader, self.test_loader\n",
    "    \n",
    "    def weights_init(self):\n",
    "        if isinstance(self, nn.Conv2d):\n",
    "            nn.init.xavier_uniform(self.weight.data)\n",
    "        \n",
    "        \n",
    "    # Network train method\n",
    "    def _train(self):\n",
    "        # Sets PyTorch's state to train\n",
    "        self.train()\n",
    "        \n",
    "        net_mods = []\n",
    "        for module in self.modules():\n",
    "            net_mods.append(module)\n",
    "\n",
    "        network = net_mods[0]\n",
    "        \n",
    "        images, labels = next(iter(self.train_loader))\n",
    "        grid = torchvision.utils.make_grid(images)\n",
    "        \n",
    "        tb = SummaryWriter(log_dir='tensorboard/')\n",
    "        \n",
    "        tb.add_image('images', grid, 0)\n",
    "        tb.add_graph(network, images)\n",
    "        \n",
    "        # Training loop, taking in number of epochs\n",
    "        for i in range(self.epochs):\n",
    "            epoch_loss = 0\n",
    "            epoch_acc = []\n",
    "            \n",
    "            # Inner training loop\n",
    "            for j, (inpt, label) in enumerate(self.train_loader):\n",
    "                self.optimizer.zero_grad() # Zeroes gradients to avoid contamination\n",
    "                label = label.to(self.device) # Sends labels to GPU\n",
    "                prediction = self.forward(inpt) # Forward steps predictions by passing inpt images\n",
    "                loss = self.loss(prediction, label) # Uses Cross-Entropy Loss to calculate loss \n",
    "                # Softmax takes a vector of k-real values and turns them to a vector that sums to 1\n",
    "                prediction = F.softmax(prediction, dim=1) \n",
    "                classes = torch.argmax(prediction, dim=1) # Finds max value of target function to return predicted classes\n",
    "                wrong = torch.where(classes != label, \n",
    "                                    torch.tensor([1.]).to(self.device),\n",
    "                                    torch.tensor([0.]).to(self.device)) # Finds where classes predicts incorrectly\n",
    "                                                                        # And assigns a true and false binary value\n",
    "                    \n",
    "                acc = 1 - torch.sum(wrong) / self.batch_size # calculates accuracy\n",
    "                \n",
    "                epoch_acc.append(acc.item()) # acc.item detatches the value from the tensor for operation\n",
    "                self.acc_history.append(acc.item()) # Same as above\n",
    "                epoch_loss += loss.item() # Same as above\n",
    "                \n",
    "                loss.backward() # Back propogates loss from the loss function for learning\n",
    "                self.optimizer.step() # Uses Adam to step forward in learning\n",
    "            print('Finish epoch', i+1, 'total loss %.3f' % epoch_loss,\n",
    "                  'accuracy %.3f' % np.mean(epoch_acc*100))\n",
    "            \n",
    "            tb.add_scalar('Loss', epoch_loss, i)\n",
    "            tb.add_scalar('Number incorrect', torch.sum(wrong), i)\n",
    "            tb.add_scalar('Accuracy', acc, i)\n",
    "            \n",
    "            tb.add_histogram('conv1.bias', network.conv1.bias, i)\n",
    "            tb.add_histogram('conv2.bias', network.conv2.bias, i)\n",
    "            tb.add_histogram('conv3.bias', network.conv3.bias, i)\n",
    "            tb.add_histogram('conv4.bias', network.conv4.bias, i)\n",
    "            tb.add_histogram('conv5.bias', network.conv5.bias, i)\n",
    "            tb.add_histogram('conv6.bias', network.conv6.bias, i)\n",
    "            \n",
    "            tb.add_histogram('conv1.weight', network.conv1.weight, i)\n",
    "            tb.add_histogram('conv2.weight', network.conv2.weight, i)\n",
    "            tb.add_histogram('conv3.weight', network.conv3.weight, i)\n",
    "            tb.add_histogram('conv4.weight', network.conv4.weight, i)\n",
    "            tb.add_histogram('conv5.weight', network.conv5.weight, i)\n",
    "            tb.add_histogram('conv6.weight', network.conv6.weight, i)\n",
    "            \n",
    "            tb.close()\n",
    "            \n",
    "            self.loss_history.append(epoch_loss)\n",
    "    \n",
    "    # Testing method\n",
    "    def _test(self):\n",
    "        # Sets PyTorch's test state\n",
    "        self.eval()\n",
    "        \n",
    "        # See train step for further notes on this section\n",
    "        epoch_loss = 0\n",
    "        epoch_acc = []\n",
    "        \n",
    "        predictionlist = []\n",
    "        labellist = []\n",
    "        \n",
    "        for j, (inpt, label) in enumerate(self.test_loader):\n",
    "            with torch.no_grad():\n",
    "                label = label.to(self.device)\n",
    "                prediction = self.forward(inpt)\n",
    "                loss = self.loss(prediction, label)\n",
    "                prediction = F.softmax(prediction, dim=1)\n",
    "                classes = torch.argmax(prediction, dim=1)\n",
    "                wrong = torch.where(classes != label,\n",
    "                                    torch.tensor([1.]).to(self.device),\n",
    "                                    torch.tensor([0.]).to(self.device))\n",
    "                predictionlist.append(prediction.cpu())\n",
    "                labellist.append(label.cpu())\n",
    "                acc = 1 - torch.sum(wrong) / self.batch_size\n",
    "                epoch_acc.append(acc.item())\n",
    "                epoch_loss += loss.item()\n",
    "                \n",
    "        print('total loss %.3f' % epoch_loss,\n",
    "              'accuracy %.3f' % np.mean(epoch_acc))\n",
    "        \n",
    "        prediction_list = []\n",
    "        for pred in predictionlist:\n",
    "            for j in pred:\n",
    "                prediction_list.append(torch.argmax(j).item())\n",
    "                \n",
    "        label_list = []\n",
    "        for label in labellist:\n",
    "            for i in label:\n",
    "                label_list.append(i.item())\n",
    "        \n",
    "        with torch.no_grad():\n",
    "            self.con_matx = confusion_matrix(label_list, prediction_list)\n",
    "            self.norm_con_matx = confusion_matrix(label_list, prediction_list,\n",
    "                                             normalize='true')\n",
    "            \n",
    "        sns.heatmap(self.con_matx, annot=True, cmap='Blues', fmt='g')\n",
    "        plt.title('Confusion Matrix')\n",
    "        plt.yticks(ticks=[.5,1.5], labels=['No Pneumonia', 'Pneumonia'])\n",
    "        plt.xticks(ticks=[.5,1.5], labels=['No Pneumonia', 'Pneumonia'])\n",
    "        plt.savefig('Images/confmat.png')\n",
    "        plt.show()\n",
    "        \n",
    "        sns.heatmap(self.norm_con_matx, cmap='Blues', annot=True)\n",
    "        plt.title('Normalized Confusion Matrix')\n",
    "        plt.yticks(ticks=[.5,1.5], labels=['No Pneumonia', 'Pneumonia'])\n",
    "        plt.xticks(ticks=[.5,1.5], labels=['No Pneumonia', 'Pneumonia'])\n",
    "        plt.savefig('Images/normconfmat.png')\n",
    "        plt.show()\n",
    "        \n",
    "        print(classification_report(label_list, prediction_list))\n",
    "        \n",
    "            \n",
    "#         display(con_matx)\n",
    "#         display(norm_con_matx)\n",
    "        \n",
    "        self.loss_history.append(epoch_loss)"
   ]
  },
  {
   "cell_type": "markdown",
   "metadata": {},
   "source": [
    "## Model Training"
   ]
  },
  {
   "cell_type": "code",
   "execution_count": 239,
   "metadata": {
    "ExecuteTime": {
     "end_time": "2020-11-09T16:23:48.115077Z",
     "start_time": "2020-11-09T16:14:14.381150Z"
    },
    "scrolled": false
   },
   "outputs": [
    {
     "name": "stdout",
     "output_type": "stream",
     "text": [
      "----------------------------------------------------------------\n",
      "        Layer (type)               Output Shape         Param #\n",
      "================================================================\n",
      "            Conv2d-1           [-1, 32, 28, 28]             832\n",
      "       BatchNorm2d-2           [-1, 32, 28, 28]              64\n",
      "            Conv2d-3           [-1, 32, 26, 26]           9,248\n",
      "       BatchNorm2d-4           [-1, 32, 26, 26]              64\n",
      "            Conv2d-5           [-1, 32, 24, 24]           9,248\n",
      "       BatchNorm2d-6           [-1, 32, 24, 24]              64\n",
      "         MaxPool2d-7           [-1, 32, 12, 12]               0\n",
      "            Conv2d-8           [-1, 64, 10, 10]          18,496\n",
      "       BatchNorm2d-9           [-1, 64, 10, 10]             128\n",
      "           Conv2d-10             [-1, 64, 8, 8]          36,928\n",
      "      BatchNorm2d-11             [-1, 64, 8, 8]             128\n",
      "           Conv2d-12             [-1, 64, 6, 6]          36,928\n",
      "      BatchNorm2d-13             [-1, 64, 6, 6]             128\n",
      "        MaxPool2d-14             [-1, 64, 3, 3]               0\n",
      "           Linear-15                   [-1, 50]          28,850\n",
      "           Linear-16                    [-1, 2]             102\n",
      "================================================================\n",
      "Total params: 141,208\n",
      "Trainable params: 141,208\n",
      "Non-trainable params: 0\n",
      "----------------------------------------------------------------\n",
      "Input size (MB): 0.00\n",
      "Forward/backward pass size (MB): 1.23\n",
      "Params size (MB): 0.54\n",
      "Estimated Total Size (MB): 1.77\n",
      "----------------------------------------------------------------\n",
      "Finish epoch 1 total loss 8.563 accuracy 0.886\n",
      "Finish epoch 2 total loss 5.547 accuracy 0.933\n",
      "Finish epoch 3 total loss 4.450 accuracy 0.945\n",
      "Finish epoch 4 total loss 4.208 accuracy 0.956\n",
      "Finish epoch 5 total loss 5.549 accuracy 0.932\n",
      "Finish epoch 6 total loss 4.051 accuracy 0.954\n",
      "Finish epoch 7 total loss 4.469 accuracy 0.956\n",
      "Finish epoch 8 total loss 5.304 accuracy 0.941\n",
      "Finish epoch 9 total loss 2.985 accuracy 0.964\n",
      "Finish epoch 10 total loss 2.440 accuracy 0.970\n",
      "Finish epoch 11 total loss 3.463 accuracy 0.963\n",
      "Finish epoch 12 total loss 5.222 accuracy 0.962\n",
      "Finish epoch 13 total loss 4.119 accuracy 0.948\n",
      "Finish epoch 14 total loss 2.922 accuracy 0.971\n",
      "Finish epoch 15 total loss 4.040 accuracy 0.962\n"
     ]
    },
    {
     "data": {
      "image/png": "[encoded data removed]",
      "text/plain": [
       "<Figure size 432x288 with 1 Axes>"
      ]
     },
     "metadata": {
      "needs_background": "light"
     },
     "output_type": "display_data"
    },
    {
     "data": {
      "image/png": "[encoded data removed]",
      "text/plain": [
       "<Figure size 432x288 with 1 Axes>"
      ]
     },
     "metadata": {
      "needs_background": "light"
     },
     "output_type": "display_data"
    }
   ],
   "source": [
    "# Initialize CNN\n",
    "if two_classes:\n",
    "    network = CNN(lr=0.001, batch_size=128, epochs=15, num_classes=2, class_weights=weights) \n",
    "    summary(network, (1, 32, 32))\n",
    "\n",
    "else:\n",
    "    network = CNN(lr=0.001, batch_size=128, epochs=25, num_classes=3, class_weights=weights)\n",
    "    summary(network, (1, 32, 32))\n",
    "\n",
    "# Trains CNN\n",
    "network._train()\n",
    "\n",
    "# Plotting loss and accuracy histories\n",
    "plt.plot(network.loss_history)\n",
    "plt.title('Loss History by Epoch')\n",
    "plt.xlabel('Epochs')\n",
    "plt.ylabel('Loss')\n",
    "plt.savefig('Images/pytorch_loss.png')\n",
    "plt.show()\n",
    "plt.plot(network.acc_history)\n",
    "plt.title('Accuracy History by Epoch')\n",
    "plt.xlabel('Batch')\n",
    "plt.ylabel('Accuracy')\n",
    "plt.savefig('Images/pytorch_acc.png')\n",
    "plt.show()"
   ]
  },
  {
   "cell_type": "markdown",
   "metadata": {},
   "source": [
    "## Model Testing"
   ]
  },
  {
   "cell_type": "code",
   "execution_count": 240,
   "metadata": {
    "ExecuteTime": {
     "end_time": "2020-11-09T16:23:48.118078Z",
     "start_time": "2020-11-09T16:23:48.116077Z"
    }
   },
   "outputs": [],
   "source": [
    "def total_images(network):\n",
    "    return (len(iter(network.test_loader)) * network.batch_size)"
   ]
  },
  {
   "cell_type": "code",
   "execution_count": 241,
   "metadata": {
    "ExecuteTime": {
     "end_time": "2020-11-09T16:24:04.843560Z",
     "start_time": "2020-11-09T16:23:48.119078Z"
    },
    "scrolled": false
   },
   "outputs": [
    {
     "name": "stdout",
     "output_type": "stream",
     "text": [
      "total loss 2.100 accuracy 0.954\n"
     ]
    },
    {
     "data": {
      "image/png": "[encoded data removed]",
      "text/plain": [
       "<Figure size 432x288 with 2 Axes>"
      ]
     },
     "metadata": {
      "needs_background": "light"
     },
     "output_type": "display_data"
    },
    {
     "data": {
      "image/png": "[encoded data removed]",
      "text/plain": [
       "<Figure size 432x288 with 2 Axes>"
      ]
     },
     "metadata": {
      "needs_background": "light"
     },
     "output_type": "display_data"
    },
    {
     "name": "stdout",
     "output_type": "stream",
     "text": [
      "              precision    recall  f1-score   support\n",
      "\n",
      "           0       0.90      0.94      0.92       494\n",
      "           1       0.98      0.96      0.97      1262\n",
      "\n",
      "    accuracy                           0.95      1756\n",
      "   macro avg       0.94      0.95      0.94      1756\n",
      "weighted avg       0.95      0.95      0.95      1756\n",
      "\n",
      "Model tested 1792 images in 16.71 seconds.\n",
      "0.009327 seconds per image.\n"
     ]
    }
   ],
   "source": [
    "# Tests the network\n",
    "starts = time.perf_counter()\n",
    "network._test()\n",
    "finishs = time.perf_counter()\n",
    "\n",
    "times = finishs - starts\n",
    "print(f'Model tested {total_images(network)} images in {times:.4g} seconds.')\n",
    "print(f'{times/total_images(network):.4g} seconds per image.')"
   ]
  },
  {
   "cell_type": "markdown",
   "metadata": {},
   "source": [
    "### Deployable Code"
   ]
  },
  {
   "cell_type": "code",
   "execution_count": 20,
   "metadata": {
    "ExecuteTime": {
     "end_time": "2020-11-05T21:04:39.222112Z",
     "start_time": "2020-11-05T21:04:39.218111Z"
    }
   },
   "outputs": [],
   "source": [
    "def transform_image(img): \n",
    "    \n",
    "    \"\"\"Helper Function:\n",
    "       Takes in Image from path, returns tensor of transformed image.\n",
    "    \"\"\"\n",
    "    \n",
    "    my_transforms = transforms.Compose([\n",
    "                transforms.ToPILImage(),\n",
    "                transforms.Resize((32,32)),\n",
    "                transforms.Grayscale(),\n",
    "                transforms.ToTensor(),\n",
    "                transforms.Normalize(mean=[.5], std=[.5])\n",
    "            ])\n",
    "    image = io.imread(img)\n",
    "    return my_transforms(image).unsqueeze(0)"
   ]
  },
  {
   "cell_type": "code",
   "execution_count": 21,
   "metadata": {
    "ExecuteTime": {
     "end_time": "2020-11-05T21:04:39.231112Z",
     "start_time": "2020-11-05T21:04:39.225111Z"
    }
   },
   "outputs": [],
   "source": [
    "def get_prediction(img_path):\n",
    "    \"\"\"Helper function:\n",
    "    Takes the image path, passes the image path to the transform_image function,\n",
    "    and then feeds the image into our model for a prediction.\n",
    "    \"\"\"\n",
    "    \n",
    "    tensor = transform_image(img=img_path)\n",
    "    outputs = network.forward(tensor)\n",
    "    _, y_hat = outputs.max(1)\n",
    "    return y_hat.cpu()"
   ]
  },
  {
   "cell_type": "code",
   "execution_count": 22,
   "metadata": {
    "ExecuteTime": {
     "end_time": "2020-11-05T21:04:39.253110Z",
     "start_time": "2020-11-05T21:04:39.233111Z"
    }
   },
   "outputs": [
    {
     "data": {
      "text/plain": [
       "tensor([1])"
      ]
     },
     "execution_count": 22,
     "metadata": {},
     "output_type": "execute_result"
    }
   ],
   "source": [
    "get_prediction(\"valid_xray/validxray3.jpeg\")"
   ]
  },
  {
   "cell_type": "markdown",
   "metadata": {},
   "source": [
    "### Saving and Loading Model"
   ]
  },
  {
   "cell_type": "markdown",
   "metadata": {},
   "source": [
    "PyTorch explains their **State-Dictionaries** as:\n",
    "> In PyTorch, the learnable parameters (i.e. weights and biases) of an torch.nn.Module model are contained in the model’s parameters (accessed with model.parameters()). A state_dict is simply a Python dictionary object that maps each layer to its parameter tensor. Note that only layers with learnable parameters (convolutional layers, linear layers, etc.) and registered buffers (batchnorm’s running_mean) have entries in the model’s state_dict. Optimizer objects (torch.optim) also have a state_dict, which contains information about the optimizer’s state, as well as the hyperparameters used.<br><br>\n",
    "Because state_dict objects are Python dictionaries, they can be easily saved, updated, altered, and restored, adding a great deal of modularity to PyTorch models and optimizers."
   ]
  },
  {
   "cell_type": "code",
   "execution_count": 23,
   "metadata": {
    "ExecuteTime": {
     "end_time": "2020-11-05T21:04:39.258109Z",
     "start_time": "2020-11-05T21:04:39.254110Z"
    }
   },
   "outputs": [],
   "source": [
    "if save:\n",
    "    torch.save(network.state_dict(), 'models/xray_cnn.pth')"
   ]
  },
  {
   "cell_type": "code",
   "execution_count": 24,
   "metadata": {
    "ExecuteTime": {
     "end_time": "2020-11-05T21:04:39.293111Z",
     "start_time": "2020-11-05T21:04:39.259110Z"
    }
   },
   "outputs": [
    {
     "data": {
      "text/plain": [
       "CNN(\n",
       "  (conv1): Conv2d(1, 32, kernel_size=(5, 5), stride=(1, 1))\n",
       "  (bn1): BatchNorm2d(32, eps=1e-05, momentum=0.1, affine=True, track_running_stats=True)\n",
       "  (conv2): Conv2d(32, 32, kernel_size=(3, 3), stride=(1, 1))\n",
       "  (bn2): BatchNorm2d(32, eps=1e-05, momentum=0.1, affine=True, track_running_stats=True)\n",
       "  (conv3): Conv2d(32, 32, kernel_size=(3, 3), stride=(1, 1))\n",
       "  (bn3): BatchNorm2d(32, eps=1e-05, momentum=0.1, affine=True, track_running_stats=True)\n",
       "  (maxpool1): MaxPool2d(kernel_size=2, stride=2, padding=0, dilation=1, ceil_mode=False)\n",
       "  (conv4): Conv2d(32, 64, kernel_size=(3, 3), stride=(1, 1))\n",
       "  (bn4): BatchNorm2d(64, eps=1e-05, momentum=0.1, affine=True, track_running_stats=True)\n",
       "  (conv5): Conv2d(64, 64, kernel_size=(3, 3), stride=(1, 1))\n",
       "  (bn5): BatchNorm2d(64, eps=1e-05, momentum=0.1, affine=True, track_running_stats=True)\n",
       "  (conv6): Conv2d(64, 64, kernel_size=(3, 3), stride=(1, 1))\n",
       "  (bn6): BatchNorm2d(64, eps=1e-05, momentum=0.1, affine=True, track_running_stats=True)\n",
       "  (maxpool2): MaxPool2d(kernel_size=2, stride=2, padding=0, dilation=1, ceil_mode=False)\n",
       "  (fc1): Linear(in_features=576, out_features=50, bias=True)\n",
       "  (fc2): Linear(in_features=50, out_features=2, bias=True)\n",
       "  (loss): CrossEntropyLoss()\n",
       ")"
      ]
     },
     "execution_count": 24,
     "metadata": {},
     "output_type": "execute_result"
    }
   ],
   "source": [
    "device = torch.device(\"cuda\")\n",
    "model = CNN(lr=0.001, batch_size=128, epochs=15, num_classes=2, class_weights=weights) \n",
    "model.load_state_dict(torch.load('models/xray_cnn.pth'))\n",
    "model.to(device)"
   ]
  },
  {
   "cell_type": "markdown",
   "metadata": {},
   "source": [
    "### TensorBoard"
   ]
  },
  {
   "cell_type": "markdown",
   "metadata": {},
   "source": [
    "TensorFlow offers a free service that will allow you to host you TensorBoard experiments for all to view. We have decided to utilize this feature:\n",
    "\n",
    "[TensorBoard](https://tensorboard.dev/experiment/4zgLN2tXRbWX2agsMM49eA/#scalars&run=.)"
   ]
  },
  {
   "cell_type": "markdown",
   "metadata": {},
   "source": [
    "### What the Model 'Sees'"
   ]
  },
  {
   "cell_type": "code",
   "execution_count": 25,
   "metadata": {
    "ExecuteTime": {
     "end_time": "2020-11-05T21:04:39.298111Z",
     "start_time": "2020-11-05T21:04:39.294111Z"
    }
   },
   "outputs": [],
   "source": [
    "con_layers = [network.con1, network.con2, network.con3, network.con4,\n",
    "              network.con5, network.con6]"
   ]
  },
  {
   "cell_type": "code",
   "execution_count": 26,
   "metadata": {
    "ExecuteTime": {
     "end_time": "2020-11-05T21:04:39.305111Z",
     "start_time": "2020-11-05T21:04:39.299110Z"
    }
   },
   "outputs": [],
   "source": [
    "con_first_img = []\n",
    "for layer in con_layers:\n",
    "    con_first_img.append(layer[0].cpu().detach().permute(1, 2, 0).numpy())"
   ]
  },
  {
   "cell_type": "code",
   "execution_count": 27,
   "metadata": {
    "ExecuteTime": {
     "end_time": "2020-11-05T21:04:39.765111Z",
     "start_time": "2020-11-05T21:04:39.306111Z"
    }
   },
   "outputs": [
    {
     "data": {
      "image/png": "[encoded data removed]",
      "text/plain": [
       "<Figure size 432x288 with 1 Axes>"
      ]
     },
     "metadata": {
      "needs_background": "light"
     },
     "output_type": "display_data"
    },
    {
     "data": {
      "image/png": "[encoded data removed]",
      "text/plain": [
       "<Figure size 432x288 with 1 Axes>"
      ]
     },
     "metadata": {
      "needs_background": "light"
     },
     "output_type": "display_data"
    },
    {
     "data": {
      "image/png": "[encoded data removed]",
      "text/plain": [
       "<Figure size 432x288 with 1 Axes>"
      ]
     },
     "metadata": {
      "needs_background": "light"
     },
     "output_type": "display_data"
    },
    {
     "data": {
      "image/png": "[encoded data removed]",
      "text/plain": [
       "<Figure size 432x288 with 1 Axes>"
      ]
     },
     "metadata": {
      "needs_background": "light"
     },
     "output_type": "display_data"
    },
    {
     "data": {
      "image/png": "[encoded data removed]",
      "text/plain": [
       "<Figure size 432x288 with 1 Axes>"
      ]
     },
     "metadata": {
      "needs_background": "light"
     },
     "output_type": "display_data"
    },
    {
     "data": {
      "image/png": "[encoded data removed]",
      "text/plain": [
       "<Figure size 432x288 with 1 Axes>"
      ]
     },
     "metadata": {
      "needs_background": "light"
     },
     "output_type": "display_data"
    }
   ],
   "source": [
    "for img in con_first_img:\n",
    "    plt.imshow(X=img[:,:, 0], cmap='gray')\n",
    "    plt.show()"
   ]
  },
  {
   "cell_type": "markdown",
   "metadata": {},
   "source": [
    "# Tensorflow-Keras Model"
   ]
  },
  {
   "cell_type": "markdown",
   "metadata": {},
   "source": [
    "**TensorFlow** is a **machine learning** framework that is developed and maintained by **Google**. In the intervening years, as the role of **Data Scientists** and **Machine Learning Engineers** has grown, numerous frameworks have sprung up and faded away. One that has survived, and is considered the epitome of Python machine learning libraries, is **TensorFlow**. \n",
    "\n",
    "**TensforFlow** has went through one large iteration. It moved from **TensorFlow** to it's current state as **TensorFlow 2.0**. This included several very important updates to the library that made for greatly expanded ease of use and deployment. Some, but not all of those additions, were:\n",
    "\n",
    "* Many old **TensorFlow** libraries were deprecated or combined to make it easier to navigate and find what you need.\n",
    "* A switch to **Eager Execution** made it so that you didn't need to start a session, you could work in a more Pythonic manner, and made debugging easier and quicker among a litany of other effects.\n",
    "* During the era of **TensorFlow 1.0**, **Keras** was a separate library that gave a high-level wrapper that would allow for rapid iteration and deploying. It has now been added to the **TensorFlow Core**, so that it can be better utilized.\n",
    "\n",
    "\n",
    "We have chosen to replicate, very closely, the network architecture of the **PyTorch model**. This is to compare how closely the two architectures perform on the same task under similar circumstances."
   ]
  },
  {
   "cell_type": "code",
   "execution_count": 28,
   "metadata": {
    "ExecuteTime": {
     "end_time": "2020-11-05T21:04:39.934109Z",
     "start_time": "2020-11-05T21:04:39.766113Z"
    }
   },
   "outputs": [],
   "source": [
    "import tensorflow as tf\n",
    "from tensorflow.keras import models\n",
    "from tensorflow.keras.layers import Dense, Conv2D, MaxPooling2D, BatchNormalization, Flatten, Dropout\n",
    "import tensorflow_addons as tfa\n",
    "import matplotlib.pyplot as plt\n",
    "from tensorflow.keras.utils import Sequence"
   ]
  },
  {
   "cell_type": "code",
   "execution_count": 29,
   "metadata": {
    "ExecuteTime": {
     "end_time": "2020-11-05T21:04:41.457110Z",
     "start_time": "2020-11-05T21:04:39.935113Z"
    }
   },
   "outputs": [],
   "source": [
    "# Squential Model\n",
    "model = models.Sequential()\n",
    "\n",
    "# 3 Convolutional layers with batch norms and relu activation\n",
    "model.add(Conv2D(32, (5, 5), input_shape=(32, 32, 1)))\n",
    "model.add(BatchNormalization())\n",
    "model.add(Conv2D(32, (3, 3), activation='relu'))\n",
    "model.add(BatchNormalization())\n",
    "model.add(Conv2D(32, (3, 3), activation='relu'))\n",
    "model.add(BatchNormalization())\n",
    "\n",
    "# Max pooling layer\n",
    "model.add(MaxPooling2D((2, 2)))\n",
    "\n",
    "# 30% random dropout\n",
    "model.add(Dropout(.3))\n",
    "\n",
    "# 3 additional Convolutional layers with batch norms\n",
    "model.add(Conv2D(32, (3, 3), activation='relu'))\n",
    "model.add(BatchNormalization())\n",
    "model.add(Conv2D(64, (3, 3), activation='relu'))\n",
    "model.add(BatchNormalization())\n",
    "model.add(Conv2D(64, (3, 3), activation='relu'))\n",
    "model.add(BatchNormalization())\n",
    "        \n",
    "# Max pooling layer\n",
    "model.add(MaxPooling2D((2, 2)))\n",
    "\n",
    "# Second dropout layer at 30%\n",
    "model.add(Dropout(.3))\n",
    "\n",
    "# Flatten to feed into 2 dense layers to get output\n",
    "model.add(Flatten())\n",
    "model.add(Dense(50, activation='relu'))\n",
    "model.add(Dense(1, activation='sigmoid')) # Sigmoid to output between 0 and 1"
   ]
  },
  {
   "cell_type": "code",
   "execution_count": 30,
   "metadata": {
    "ExecuteTime": {
     "end_time": "2020-11-05T21:04:41.465111Z",
     "start_time": "2020-11-05T21:04:41.458111Z"
    }
   },
   "outputs": [
    {
     "name": "stdout",
     "output_type": "stream",
     "text": [
      "Model: \"sequential\"\n",
      "_________________________________________________________________\n",
      "Layer (type)                 Output Shape              Param #   \n",
      "=================================================================\n",
      "conv2d (Conv2D)              (None, 28, 28, 32)        832       \n",
      "_________________________________________________________________\n",
      "batch_normalization (BatchNo (None, 28, 28, 32)        128       \n",
      "_________________________________________________________________\n",
      "conv2d_1 (Conv2D)            (None, 26, 26, 32)        9248      \n",
      "_________________________________________________________________\n",
      "batch_normalization_1 (Batch (None, 26, 26, 32)        128       \n",
      "_________________________________________________________________\n",
      "conv2d_2 (Conv2D)            (None, 24, 24, 32)        9248      \n",
      "_________________________________________________________________\n",
      "batch_normalization_2 (Batch (None, 24, 24, 32)        128       \n",
      "_________________________________________________________________\n",
      "max_pooling2d (MaxPooling2D) (None, 12, 12, 32)        0         \n",
      "_________________________________________________________________\n",
      "dropout (Dropout)            (None, 12, 12, 32)        0         \n",
      "_________________________________________________________________\n",
      "conv2d_3 (Conv2D)            (None, 10, 10, 32)        9248      \n",
      "_________________________________________________________________\n",
      "batch_normalization_3 (Batch (None, 10, 10, 32)        128       \n",
      "_________________________________________________________________\n",
      "conv2d_4 (Conv2D)            (None, 8, 8, 64)          18496     \n",
      "_________________________________________________________________\n",
      "batch_normalization_4 (Batch (None, 8, 8, 64)          256       \n",
      "_________________________________________________________________\n",
      "conv2d_5 (Conv2D)            (None, 6, 6, 64)          36928     \n",
      "_________________________________________________________________\n",
      "batch_normalization_5 (Batch (None, 6, 6, 64)          256       \n",
      "_________________________________________________________________\n",
      "max_pooling2d_1 (MaxPooling2 (None, 3, 3, 64)          0         \n",
      "_________________________________________________________________\n",
      "dropout_1 (Dropout)          (None, 3, 3, 64)          0         \n",
      "_________________________________________________________________\n",
      "flatten (Flatten)            (None, 576)               0         \n",
      "_________________________________________________________________\n",
      "dense (Dense)                (None, 50)                28850     \n",
      "_________________________________________________________________\n",
      "dense_1 (Dense)              (None, 1)                 51        \n",
      "=================================================================\n",
      "Total params: 113,925\n",
      "Trainable params: 113,413\n",
      "Non-trainable params: 512\n",
      "_________________________________________________________________\n"
     ]
    }
   ],
   "source": [
    "model.summary()"
   ]
  },
  {
   "cell_type": "markdown",
   "metadata": {},
   "source": [
    "### Model Compliation"
   ]
  },
  {
   "cell_type": "code",
   "execution_count": 91,
   "metadata": {
    "ExecuteTime": {
     "end_time": "2020-11-06T17:01:38.565621Z",
     "start_time": "2020-11-06T17:01:38.549624Z"
    }
   },
   "outputs": [],
   "source": [
    "# Model compilation, optimizer is Adam with a -1e4 LR and a Focal Cross Entropy loss function\n",
    "model.compile(optimizer=tf.keras.optimizers.Adam(lr=.0001),\n",
    "              loss=tfa.losses.SigmoidFocalCrossEntropy(from_logits=True),\n",
    "              metrics=['accuracy', 'Precision', 'Recall'])"
   ]
  },
  {
   "cell_type": "markdown",
   "metadata": {},
   "source": [
    "### Testing and Training Dataloaders"
   ]
  },
  {
   "cell_type": "code",
   "execution_count": 92,
   "metadata": {
    "ExecuteTime": {
     "end_time": "2020-11-06T17:01:39.269623Z",
     "start_time": "2020-11-06T17:01:39.266625Z"
    }
   },
   "outputs": [],
   "source": [
    "# Hyperparameters\n",
    "batch_size = 128\n",
    "img_height = 32\n",
    "img_width = 32\n",
    "train_data_dir = 'xrays/train'\n",
    "test_data_dir = 'xrays/test'"
   ]
  },
  {
   "cell_type": "code",
   "execution_count": 93,
   "metadata": {
    "ExecuteTime": {
     "end_time": "2020-11-06T17:01:39.853622Z",
     "start_time": "2020-11-06T17:01:39.572622Z"
    }
   },
   "outputs": [
    {
     "name": "stdout",
     "output_type": "stream",
     "text": [
      "Found 5216 files belonging to 2 classes.\n",
      "Using 4173 files for training.\n"
     ]
    }
   ],
   "source": [
    "# using the in-built Keras data pre-processor to load data for training\n",
    "train_ds = tf.keras.preprocessing.image_dataset_from_directory(\n",
    "    train_data_dir,\n",
    "    label_mode='binary',\n",
    "    validation_split=0.2,\n",
    "    subset=\"training\",\n",
    "    seed=42,\n",
    "    image_size=(img_height, img_width),\n",
    "    batch_size=batch_size,\n",
    "    shuffle=True,\n",
    "    color_mode='grayscale')"
   ]
  },
  {
   "cell_type": "code",
   "execution_count": 94,
   "metadata": {
    "ExecuteTime": {
     "end_time": "2020-11-06T17:01:40.009623Z",
     "start_time": "2020-11-06T17:01:39.854624Z"
    }
   },
   "outputs": [
    {
     "name": "stdout",
     "output_type": "stream",
     "text": [
      "Found 624 files belonging to 2 classes.\n",
      "Using 124 files for validation.\n"
     ]
    }
   ],
   "source": [
    "# using the in-built Keras data pre-processor to load data for testing\n",
    "test_ds = tf.keras.preprocessing.image_dataset_from_directory(\n",
    "    test_data_dir,\n",
    "    label_mode='binary',\n",
    "    validation_split=0.2,\n",
    "    subset=\"validation\",\n",
    "    seed=42,\n",
    "    image_size=(img_height, img_width),\n",
    "    batch_size=batch_size,\n",
    "    shuffle=True,\n",
    "    color_mode='grayscale')"
   ]
  },
  {
   "cell_type": "code",
   "execution_count": 180,
   "metadata": {
    "ExecuteTime": {
     "end_time": "2020-11-06T22:30:16.835009Z",
     "start_time": "2020-11-06T22:30:16.400011Z"
    }
   },
   "outputs": [],
   "source": [
    "data = next(iter(test_ds))"
   ]
  },
  {
   "cell_type": "code",
   "execution_count": 188,
   "metadata": {
    "ExecuteTime": {
     "end_time": "2020-11-06T22:32:49.154010Z",
     "start_time": "2020-11-06T22:32:49.051009Z"
    }
   },
   "outputs": [
    {
     "data": {
      "text/plain": [
       "<matplotlib.image.AxesImage at 0x1e6750d4390>"
      ]
     },
     "execution_count": 188,
     "metadata": {},
     "output_type": "execute_result"
    },
    {
     "data": {
      "image/png": "[encoded data removed]",
      "text/plain": [
       "<Figure size 432x288 with 1 Axes>"
      ]
     },
     "metadata": {
      "needs_background": "light"
     },
     "output_type": "display_data"
    }
   ],
   "source": [
    "plt.imshow(list(data[0].numpy())[0][:,:,0], cmap='gray')"
   ]
  },
  {
   "cell_type": "code",
   "execution_count": 95,
   "metadata": {
    "ExecuteTime": {
     "end_time": "2020-11-06T17:01:40.196623Z",
     "start_time": "2020-11-06T17:01:40.193624Z"
    }
   },
   "outputs": [],
   "source": [
    "# Shuffle data with each iteration pass\n",
    "# train_ds = train_ds.shuffle(128, reshuffle_each_iteration=True)\n",
    "# test_ds = test_ds.shuffle(128, reshuffle_each_iteration=True)"
   ]
  },
  {
   "cell_type": "markdown",
   "metadata": {},
   "source": [
    "### Keras Training"
   ]
  },
  {
   "cell_type": "code",
   "execution_count": 96,
   "metadata": {
    "ExecuteTime": {
     "end_time": "2020-11-06T17:01:41.230623Z",
     "start_time": "2020-11-06T17:01:41.226624Z"
    }
   },
   "outputs": [],
   "source": [
    "# Zip weights and labels for use in model fit\n",
    "weight_dict = dict(zip([0,1], weights))"
   ]
  },
  {
   "cell_type": "code",
   "execution_count": 97,
   "metadata": {
    "ExecuteTime": {
     "end_time": "2020-11-06T17:06:09.730888Z",
     "start_time": "2020-11-06T17:01:41.729622Z"
    }
   },
   "outputs": [
    {
     "name": "stdout",
     "output_type": "stream",
     "text": [
      "Epoch 1/15\n",
      "33/33 [==============================] - 14s 411ms/step - loss: 0.0708 - accuracy: 0.8543 - precision: 0.9972 - recall: 0.8049 - val_loss: 0.0775 - val_accuracy: 0.8952 - val_precision: 0.9000 - val_recall: 0.9351\n",
      "Epoch 2/15\n",
      "33/33 [==============================] - 13s 395ms/step - loss: 0.0700 - accuracy: 0.8596 - precision: 0.9984 - recall: 0.8111 - val_loss: 0.0704 - val_accuracy: 0.8548 - val_precision: 0.9155 - val_recall: 0.8442\n",
      "Epoch 3/15\n",
      "33/33 [==============================] - 13s 390ms/step - loss: 0.0700 - accuracy: 0.8541 - precision: 0.9984 - recall: 0.8036 - val_loss: 0.1154 - val_accuracy: 0.8065 - val_precision: 0.7789 - val_recall: 0.9610\n",
      "Epoch 4/15\n",
      "33/33 [==============================] - 13s 392ms/step - loss: 0.0699 - accuracy: 0.8613 - precision: 0.9988 - recall: 0.8130 - val_loss: 0.0861 - val_accuracy: 0.8710 - val_precision: 0.8765 - val_recall: 0.9221\n",
      "Epoch 5/15\n",
      "33/33 [==============================] - 13s 399ms/step - loss: 0.0697 - accuracy: 0.8723 - precision: 0.9973 - recall: 0.8293 - val_loss: 0.1041 - val_accuracy: 0.8468 - val_precision: 0.8222 - val_recall: 0.9610\n",
      "Epoch 6/15\n",
      "33/33 [==============================] - 13s 392ms/step - loss: 0.0699 - accuracy: 0.8811 - precision: 0.9969 - recall: 0.8416 - val_loss: 0.1233 - val_accuracy: 0.7903 - val_precision: 0.7629 - val_recall: 0.9610\n",
      "Epoch 7/15\n",
      "33/33 [==============================] - 13s 389ms/step - loss: 0.0697 - accuracy: 0.8855 - precision: 0.9977 - recall: 0.8468 - val_loss: 0.1213 - val_accuracy: 0.7903 - val_precision: 0.7629 - val_recall: 0.9610\n",
      "Epoch 8/15\n",
      "33/33 [==============================] - 13s 404ms/step - loss: 0.0691 - accuracy: 0.8646 - precision: 1.0000 - recall: 0.8166 - val_loss: 0.1278 - val_accuracy: 0.7823 - val_precision: 0.7551 - val_recall: 0.9610\n",
      "Epoch 9/15\n",
      "33/33 [==============================] - 13s 392ms/step - loss: 0.0692 - accuracy: 0.8883 - precision: 0.9985 - recall: 0.8500 - val_loss: 0.0799 - val_accuracy: 0.8387 - val_precision: 0.8904 - val_recall: 0.8442\n",
      "Epoch 10/15\n",
      "33/33 [==============================] - 13s 392ms/step - loss: 0.0696 - accuracy: 0.8763 - precision: 0.9973 - recall: 0.8348 - val_loss: 0.0833 - val_accuracy: 0.8629 - val_precision: 0.8846 - val_recall: 0.8961\n",
      "Epoch 11/15\n",
      "33/33 [==============================] - 13s 391ms/step - loss: 0.0691 - accuracy: 0.8749 - precision: 0.9996 - recall: 0.8309 - val_loss: 0.0959 - val_accuracy: 0.8387 - val_precision: 0.8276 - val_recall: 0.9351\n",
      "Epoch 12/15\n",
      "33/33 [==============================] - 13s 395ms/step - loss: 0.0691 - accuracy: 0.9020 - precision: 0.9981 - recall: 0.8689 - val_loss: 0.0826 - val_accuracy: 0.8387 - val_precision: 0.8800 - val_recall: 0.8571\n",
      "Epoch 13/15\n",
      "33/33 [==============================] - 13s 396ms/step - loss: 0.0690 - accuracy: 0.9006 - precision: 0.9985 - recall: 0.8666 - val_loss: 0.0748 - val_accuracy: 0.8387 - val_precision: 0.9130 - val_recall: 0.8182\n",
      "Epoch 14/15\n",
      "33/33 [==============================] - 13s 394ms/step - loss: 0.0688 - accuracy: 0.8948 - precision: 0.9992 - recall: 0.8582 - val_loss: 0.0922 - val_accuracy: 0.8629 - val_precision: 0.8571 - val_recall: 0.9351\n",
      "Epoch 15/15\n",
      "33/33 [==============================] - 13s 395ms/step - loss: 0.0684 - accuracy: 0.9106 - precision: 1.0000 - recall: 0.8789 - val_loss: 0.1188 - val_accuracy: 0.8145 - val_precision: 0.7872 - val_recall: 0.9610\n"
     ]
    }
   ],
   "source": [
    "history = model.fit(train_ds, epochs=15, validation_data=test_ds, class_weight=weight_dict, workers=-1)"
   ]
  },
  {
   "cell_type": "code",
   "execution_count": 98,
   "metadata": {
    "ExecuteTime": {
     "end_time": "2020-11-06T17:06:29.621549Z",
     "start_time": "2020-11-06T17:06:29.439009Z"
    }
   },
   "outputs": [
    {
     "data": {
      "image/png": "[encoded data removed]",
      "text/plain": [
       "<Figure size 432x288 with 1 Axes>"
      ]
     },
     "metadata": {
      "needs_background": "light"
     },
     "output_type": "display_data"
    }
   ],
   "source": [
    "plt.plot(history.history['accuracy'], label='accuracy')\n",
    "plt.plot(history.history['val_accuracy'], label = 'val_accuracy')\n",
    "plt.title('Testing and Validation Accuracy')\n",
    "plt.xlabel('Epoch')\n",
    "plt.ylabel('Accuracy')\n",
    "plt.ylim([0.5, 1])\n",
    "plt.legend(loc='lower right')\n",
    "plt.savefig('Images/kerastraining.png')\n",
    "plt.show()"
   ]
  },
  {
   "cell_type": "markdown",
   "metadata": {},
   "source": [
    "### Keras Testing"
   ]
  },
  {
   "cell_type": "code",
   "execution_count": 99,
   "metadata": {
    "ExecuteTime": {
     "end_time": "2020-11-06T17:06:31.940545Z",
     "start_time": "2020-11-06T17:06:31.465546Z"
    }
   },
   "outputs": [
    {
     "name": "stdout",
     "output_type": "stream",
     "text": [
      "1/1 [==============================] - 0s 2ms/step - loss: 0.1188 - accuracy: 0.8145 - precision: 0.7872 - recall: 0.9610\n"
     ]
    },
    {
     "data": {
      "text/plain": [
       "[0.11881069839000702,\n",
       " 0.8145161271095276,\n",
       " 0.7872340679168701,\n",
       " 0.9610389471054077]"
      ]
     },
     "execution_count": 99,
     "metadata": {},
     "output_type": "execute_result"
    }
   ],
   "source": [
    "model.evaluate(x=test_ds)"
   ]
  },
  {
   "cell_type": "markdown",
   "metadata": {},
   "source": [
    "### Keras Model Saving and Loading"
   ]
  },
  {
   "cell_type": "code",
   "execution_count": 40,
   "metadata": {
    "ExecuteTime": {
     "end_time": "2020-11-05T21:09:09.198092Z",
     "start_time": "2020-11-05T21:09:09.195093Z"
    }
   },
   "outputs": [],
   "source": [
    "if save:\n",
    "    model.save('models/keras_xray')"
   ]
  },
  {
   "cell_type": "code",
   "execution_count": 41,
   "metadata": {
    "ExecuteTime": {
     "end_time": "2020-11-05T21:09:10.349092Z",
     "start_time": "2020-11-05T21:09:09.199092Z"
    }
   },
   "outputs": [],
   "source": [
    "reconstructed_model = models.load_model('models/keras_xray')"
   ]
  },
  {
   "cell_type": "code",
   "execution_count": 42,
   "metadata": {
    "ExecuteTime": {
     "end_time": "2020-11-05T21:09:10.357092Z",
     "start_time": "2020-11-05T21:09:10.350091Z"
    }
   },
   "outputs": [
    {
     "name": "stdout",
     "output_type": "stream",
     "text": [
      "Model: \"sequential\"\n",
      "_________________________________________________________________\n",
      "Layer (type)                 Output Shape              Param #   \n",
      "=================================================================\n",
      "conv2d (Conv2D)              (None, 28, 28, 32)        832       \n",
      "_________________________________________________________________\n",
      "batch_normalization (BatchNo (None, 28, 28, 32)        128       \n",
      "_________________________________________________________________\n",
      "conv2d_1 (Conv2D)            (None, 26, 26, 32)        9248      \n",
      "_________________________________________________________________\n",
      "batch_normalization_1 (Batch (None, 26, 26, 32)        128       \n",
      "_________________________________________________________________\n",
      "conv2d_2 (Conv2D)            (None, 24, 24, 32)        9248      \n",
      "_________________________________________________________________\n",
      "batch_normalization_2 (Batch (None, 24, 24, 32)        128       \n",
      "_________________________________________________________________\n",
      "max_pooling2d (MaxPooling2D) (None, 12, 12, 32)        0         \n",
      "_________________________________________________________________\n",
      "dropout (Dropout)            (None, 12, 12, 32)        0         \n",
      "_________________________________________________________________\n",
      "conv2d_3 (Conv2D)            (None, 10, 10, 32)        9248      \n",
      "_________________________________________________________________\n",
      "batch_normalization_3 (Batch (None, 10, 10, 32)        128       \n",
      "_________________________________________________________________\n",
      "conv2d_4 (Conv2D)            (None, 8, 8, 64)          18496     \n",
      "_________________________________________________________________\n",
      "batch_normalization_4 (Batch (None, 8, 8, 64)          256       \n",
      "_________________________________________________________________\n",
      "conv2d_5 (Conv2D)            (None, 6, 6, 64)          36928     \n",
      "_________________________________________________________________\n",
      "batch_normalization_5 (Batch (None, 6, 6, 64)          256       \n",
      "_________________________________________________________________\n",
      "max_pooling2d_1 (MaxPooling2 (None, 3, 3, 64)          0         \n",
      "_________________________________________________________________\n",
      "dropout_1 (Dropout)          (None, 3, 3, 64)          0         \n",
      "_________________________________________________________________\n",
      "flatten (Flatten)            (None, 576)               0         \n",
      "_________________________________________________________________\n",
      "dense (Dense)                (None, 50)                28850     \n",
      "_________________________________________________________________\n",
      "dense_1 (Dense)              (None, 1)                 51        \n",
      "=================================================================\n",
      "Total params: 113,925\n",
      "Trainable params: 113,413\n",
      "Non-trainable params: 512\n",
      "_________________________________________________________________\n"
     ]
    }
   ],
   "source": [
    "reconstructed_model.summary()"
   ]
  },
  {
   "cell_type": "markdown",
   "metadata": {},
   "source": [
    "# Business Application"
   ]
  },
  {
   "cell_type": "markdown",
   "metadata": {},
   "source": [
    "The [study](https://pubmed.ncbi.nlm.nih.gov/125436/) which showed that a trained radiologist or physician can determine abnormality in a chest x-ray with only a .2 second flash at a 70% true positive rate proves the ability of a highly trained human. Fortunately, in our time we can train computers to perform repetitive, specialized tasks. \n",
    "\n",
    "#### Computational costs \n",
    "\n",
    "The contrast to the cost of a trained medical professional reading an X-Ray is the cost of computation. Computational costs have been driven down by a large offering of cloud services that can host, run, and store anything and everything you could think of. This is wonderful and provides a myriad of options for the method, but one of the largest and most robust is **Amazon Web Services (AWS)**. \n",
    "\n",
    "We are going to take a further look at the costs associated with **AWS** in relation to deploying our model.\n",
    "\n",
    "<p align=\"center\">\n",
    "    <img src=\"Images/computingcost.png\" />\n",
    "</p>\n",
    "\n",
    "These are the cheaper options that do not require that storage be paid for separately. \n",
    "\n",
    "The models that we have built in this notebook were trained on an **Nvidia RTX 2070**. This consumer GPU provides **280 TensorCores** at **60 TFLOPS**. **AWS** use the latest in **Nvidia** hardware which is the **T4** GPU. The **T4** has **320 TensorCores** rated at **130 TFLOPS**. \n",
    "\n",
    "<p align=\"center\">\n",
    "    <img src=\"Images/2070perf.png\" align='left'/>\n",
    "    <img src=\"Images/t4perf.png\" align='center' />\n",
    "</p>\n",
    "\n",
    "\n",
    "It is an option to run a self-made **Deep Learning Network** but the start up costs, maintenance, and labor required to run and maintain your own *local* **deep learning network** are more than likely prohibitive. Therefore these operations are significantly more likely to be **cloud based deployments** also known as **PaaS (Platform as a Service)**. \n",
    "\n",
    "Referring back to the price chart figure above we can see that there are some moderately powerful options that could provide serious throughput for our network. However we are working on a relatively light weight model and therefore don't require a large series of parallel GPUs or dense core counts. The `g4dn.4xlarge` would be more that enough processing power and space for us to pass our data through. Running at just over $1.20 per hour it could be assumed that having a machine learning engineer and a small cloud setup could process tens of thousands of x-rays daily.\n",
    "\n",
    "#### Costs of Prediction via model\n",
    "\n",
    "Our model processed images at approximately **one hundreth of a second each**. That would mean, in ideal conditions, the model could theoretically make predictions on approximately **360,000** x-rays per hour. Therefore the average cost of an x-ray read of our model at the $1.20 per hour tear is approximately **3.333-6e cents per reading**.  \n",
    "\n",
    "#### Cost of Prediction via Doctor\n",
    "\n",
    "It is difficult to find exacting numbers on the cost a doctor or radiologist individually charge per reading of the x-ray. However we can surmise that, given the average cost in the US of a chest x-ray being [203 USD](https://health.costhelper.com/x-rays.html#:~:text=For%20patients%20without%20health%20insurance,the%20number%20of%20views%20taken.), the fee for a reading of the x-ray is appoximately 20% of the total cost thus making the cost to read ~46 USD.\n",
    "\n",
    "## Summation and Recommendations\n",
    "\n",
    "Our model, theoretically, could outperform a large team of doctors all observing a series of x-rays for .2 seconds each. This would give a roughly 70% true positive rate. However, our model working at .01 second per image, will return with a **96% precision**. \n",
    "\n",
    "#### Why Precision?\n",
    "\n",
    "$Precision = \\frac{True Positives}{True Positives + False Positives}$\n",
    "\n",
    "Precision concerns itself with if a positive is predicted, at what chance is it correct. This, therefore, is the best metric to use if you are concerned with catching as many True Positive cases as possible.\n",
    "\n",
    "### First Recommendation:\n",
    "\n",
    "After having modeled in the two deep learning frameworks, developing very similar models, and testing under similar circumstances - it appears that PyTorch is the more effective framework. \n",
    "\n",
    "**PyTorch Pros and Cons for this Application:**\n",
    "* **Pros:**\n",
    "    - Detailed control of all elements within the framework.\n",
    "    - Easily extensible class from which to build your Neural Network.\n",
    "    - Excellent Documentation with a wealth of examples.\n",
    "    - An upward trend in framework interest, leading to more community.\n",
    "    - Pythonic style and execution.\n",
    "    - Excellent save and load system using Python Dictionaries.\n",
    "    \n",
    "    \n",
    "* **Cons:** \n",
    "    - The need to direct components to and from CPU and GPU.\n",
    "    - Newer framework, less accumulated knowledge.\n",
    "    - Less coding convenience.\n",
    "    \n",
    "\n",
    "To this end, we are recommending that a model of this size, and deployability be coded in PyTorch.\n",
    "\n",
    "### Second Recommendation:\n",
    "\n",
    "Due to the cost to maintain a local deep learning network in not just start-up cost to purchase equipment, electricity costs, but also in the need to hire special labor to maintain and set-up the network. This is not even considering that there will be the need to hire specialized labor that will run the network, unless an extremely intuitive and user-friendly front-end is developed for the model. We must recommend that this model be deployed within a cloud infrastructure.\n",
    "\n",
    "Furthermore, we recommend that with future work a strong front end that could be manned with little training be implemented within this cloud solution. This would further decrease costs by eliminating the requirement of specialized labor.\n",
    "\n",
    "### Third Recommendation:\n",
    "\n",
    "Storage, especially when using the cloud or another service that charges for storage, can be a major cause for concern when operating a model that operates on imaging data. Luckily, our model as been engineered with this issue in mind. \n",
    "\n",
    "We accomplished this by using transformations to the images that allow for smaller image size and therefore less data used. Making the model more lightweight and effective for cloud deployment.\n",
    "\n",
    "How we were able to achieve this spatial savings:\n",
    "* Images taken in by the model only need be 32x32px, thereby significantly decreasing the drive space required for them.\n",
    "\n",
    "* Reducing any images that are saved as RGB to single channel Grayscale.\n",
    "\n",
    "\n",
    "## The Complete Narrative\n",
    "\n",
    "Healthcare costs are an inevitability. With some think-tanks predicting the growth of year-over-year healthcare costs maintaining *5.5%* growth rate over the next five year. The [Peter G. Peterson Foundation](https://www.pgpf.org/blog/2019/05/healthcare-costs-for-americans-projected-to-grow-at-an-alarmingly-high-rate#:~:text=Healthcare%20Costs%20Continue%20to%20Rise,to%20%246%20trillion%20by%202027.) predicted this rate in 2019, and with the new and ever present danger of the coronavirus and the possibility of global recession to stagnate the GDP growth we are facing a looming healthcare crisis.\n",
    "\n",
    "<p align='center'>\n",
    "    <img src='Images/healthcare.jpg' />\n",
    "</p>\n",
    "\n",
    "It is imperative that we find ways to decrease the total costs of healthcare that is being shoulder by the individual. Some of the most impactful means of decreasing these costs are by decreasing the need of specialized knowledge in routine activities. As a proof of concept we have built this network to show the possibilities of Neural Networks in the healthcare industry. This will not only free up doctor's time, but it was also allow a faster turn around time if there is an illness which can save lives in some cases.\n",
    "\n",
    "In the end, we are heavily suggesting that the way of future healthcare is paved with machine learning. Our model could easily be deployed to a cloud solution. A specialized and user friendly front-end can shoulder the burden by allowing the layman to feed in the X-Rays. Finally, we have arrived at the conclusion that one framework was more desirable than another, but in the end that is more or less a matter of preference and willingness to invest resources."
   ]
  },
  {
   "cell_type": "markdown",
   "metadata": {},
   "source": [
    "# Todo\n",
    "* Generate more data for training with PyTorch Transformations/\n",
    "* Make keras model less hacky, more programmatic.\n"
   ]
  }
 ],
 "metadata": {
  "kernelspec": {
   "display_name": "learn-env2",
   "language": "python",
   "name": "myenv"
  },
  "language_info": {
   "codemirror_mode": {
    "name": "ipython",
    "version": 3
   },
   "file_extension": ".py",
   "mimetype": "text/x-python",
   "name": "python",
   "nbconvert_exporter": "python",
   "pygments_lexer": "ipython3",
   "version": "3.6.9"
  },
  "toc": {
   "base_numbering": 1,
   "nav_menu": {},
   "number_sections": true,
   "sideBar": true,
   "skip_h1_title": false,
   "title_cell": "Table of Contents",
   "title_sidebar": "Contents",
   "toc_cell": true,
   "toc_position": {
    "height": "calc(100% - 180px)",
    "left": "10px",
    "top": "150px",
    "width": "465.455px"
   },
   "toc_section_display": true,
   "toc_window_display": true
  }
 },
 "nbformat": 4,
 "nbformat_minor": 2
}
